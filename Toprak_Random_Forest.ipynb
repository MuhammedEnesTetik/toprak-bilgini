{
 "cells": [
  {
   "cell_type": "code",
   "execution_count": 181,
   "id": "3c5d2019",
   "metadata": {},
   "outputs": [],
   "source": [
    "import numpy as np\n",
    "import pandas as pd\n",
    "from sklearn.metrics import accuracy_score\n",
    "from sklearn.model_selection import train_test_split\n",
    "from sklearn.preprocessing import LabelEncoder\n",
    "from sklearn.ensemble import RandomForestClassifier"
   ]
  },
  {
   "cell_type": "code",
   "execution_count": 161,
   "id": "f4ad5748",
   "metadata": {},
   "outputs": [],
   "source": [
    "df = pd.read_csv('Toprak.csv')"
   ]
  },
  {
   "cell_type": "code",
   "execution_count": 162,
   "id": "9642ccb3",
   "metadata": {},
   "outputs": [
    {
     "data": {
      "text/html": [
       "<div>\n",
       "<style scoped>\n",
       "    .dataframe tbody tr th:only-of-type {\n",
       "        vertical-align: middle;\n",
       "    }\n",
       "\n",
       "    .dataframe tbody tr th {\n",
       "        vertical-align: top;\n",
       "    }\n",
       "\n",
       "    .dataframe thead th {\n",
       "        text-align: right;\n",
       "    }\n",
       "</style>\n",
       "<table border=\"1\" class=\"dataframe\">\n",
       "  <thead>\n",
       "    <tr style=\"text-align: right;\">\n",
       "      <th></th>\n",
       "      <th>Nitrogen</th>\n",
       "      <th>Phosphorus</th>\n",
       "      <th>Potassium</th>\n",
       "      <th>Temperature</th>\n",
       "      <th>Humidity</th>\n",
       "      <th>pH_Value</th>\n",
       "      <th>Rainfall</th>\n",
       "      <th>Crop</th>\n",
       "    </tr>\n",
       "  </thead>\n",
       "  <tbody>\n",
       "    <tr>\n",
       "      <th>0</th>\n",
       "      <td>90</td>\n",
       "      <td>42</td>\n",
       "      <td>43</td>\n",
       "      <td>20.879744</td>\n",
       "      <td>82.002744</td>\n",
       "      <td>6.502985</td>\n",
       "      <td>202.935536</td>\n",
       "      <td>Rice</td>\n",
       "    </tr>\n",
       "    <tr>\n",
       "      <th>1</th>\n",
       "      <td>85</td>\n",
       "      <td>58</td>\n",
       "      <td>41</td>\n",
       "      <td>21.770462</td>\n",
       "      <td>80.319644</td>\n",
       "      <td>7.038096</td>\n",
       "      <td>226.655537</td>\n",
       "      <td>Rice</td>\n",
       "    </tr>\n",
       "    <tr>\n",
       "      <th>2</th>\n",
       "      <td>60</td>\n",
       "      <td>55</td>\n",
       "      <td>44</td>\n",
       "      <td>23.004459</td>\n",
       "      <td>82.320763</td>\n",
       "      <td>7.840207</td>\n",
       "      <td>263.964248</td>\n",
       "      <td>Rice</td>\n",
       "    </tr>\n",
       "    <tr>\n",
       "      <th>3</th>\n",
       "      <td>74</td>\n",
       "      <td>35</td>\n",
       "      <td>40</td>\n",
       "      <td>26.491096</td>\n",
       "      <td>80.158363</td>\n",
       "      <td>6.980401</td>\n",
       "      <td>242.864034</td>\n",
       "      <td>Rice</td>\n",
       "    </tr>\n",
       "    <tr>\n",
       "      <th>4</th>\n",
       "      <td>78</td>\n",
       "      <td>42</td>\n",
       "      <td>42</td>\n",
       "      <td>20.130175</td>\n",
       "      <td>81.604873</td>\n",
       "      <td>7.628473</td>\n",
       "      <td>262.717340</td>\n",
       "      <td>Rice</td>\n",
       "    </tr>\n",
       "  </tbody>\n",
       "</table>\n",
       "</div>"
      ],
      "text/plain": [
       "   Nitrogen  Phosphorus  Potassium  Temperature   Humidity  pH_Value  \\\n",
       "0        90          42         43    20.879744  82.002744  6.502985   \n",
       "1        85          58         41    21.770462  80.319644  7.038096   \n",
       "2        60          55         44    23.004459  82.320763  7.840207   \n",
       "3        74          35         40    26.491096  80.158363  6.980401   \n",
       "4        78          42         42    20.130175  81.604873  7.628473   \n",
       "\n",
       "     Rainfall  Crop  \n",
       "0  202.935536  Rice  \n",
       "1  226.655537  Rice  \n",
       "2  263.964248  Rice  \n",
       "3  242.864034  Rice  \n",
       "4  262.717340  Rice  "
      ]
     },
     "execution_count": 162,
     "metadata": {},
     "output_type": "execute_result"
    }
   ],
   "source": [
    "df.head()"
   ]
  },
  {
   "cell_type": "code",
   "execution_count": 163,
   "id": "9655cd07",
   "metadata": {},
   "outputs": [
    {
     "name": "stdout",
     "output_type": "stream",
     "text": [
      "<class 'pandas.core.frame.DataFrame'>\n",
      "RangeIndex: 2200 entries, 0 to 2199\n",
      "Data columns (total 8 columns):\n",
      " #   Column       Non-Null Count  Dtype  \n",
      "---  ------       --------------  -----  \n",
      " 0   Nitrogen     2200 non-null   int64  \n",
      " 1   Phosphorus   2200 non-null   int64  \n",
      " 2   Potassium    2200 non-null   int64  \n",
      " 3   Temperature  2200 non-null   float64\n",
      " 4   Humidity     2200 non-null   float64\n",
      " 5   pH_Value     2200 non-null   float64\n",
      " 6   Rainfall     2200 non-null   float64\n",
      " 7   Crop         2200 non-null   object \n",
      "dtypes: float64(4), int64(3), object(1)\n",
      "memory usage: 137.6+ KB\n"
     ]
    }
   ],
   "source": [
    "df.info()"
   ]
  },
  {
   "cell_type": "code",
   "execution_count": 164,
   "id": "5a3d53da",
   "metadata": {},
   "outputs": [],
   "source": [
    "df = df.rename(columns={\n",
    "    \"Nitrogen\": \"Azot\",\n",
    "    \"Phosphorus\": \"Fosfor\",\n",
    "    \"Potassium\": \"Potasyum\",\n",
    "    \"Temperature\": \"Sıcaklık\",\n",
    "    \"Humidity\": \"Nem\",\n",
    "    \"pH_Value\": \"pH_Değeri\",\n",
    "    \"Rainfall\": \"Yağış\",\n",
    "    \"Crop\": \"Ürün\"\n",
    "})"
   ]
  },
  {
   "cell_type": "code",
   "execution_count": 165,
   "id": "5ce0739d",
   "metadata": {},
   "outputs": [
    {
     "data": {
      "text/html": [
       "<div>\n",
       "<style scoped>\n",
       "    .dataframe tbody tr th:only-of-type {\n",
       "        vertical-align: middle;\n",
       "    }\n",
       "\n",
       "    .dataframe tbody tr th {\n",
       "        vertical-align: top;\n",
       "    }\n",
       "\n",
       "    .dataframe thead th {\n",
       "        text-align: right;\n",
       "    }\n",
       "</style>\n",
       "<table border=\"1\" class=\"dataframe\">\n",
       "  <thead>\n",
       "    <tr style=\"text-align: right;\">\n",
       "      <th></th>\n",
       "      <th>Azot</th>\n",
       "      <th>Fosfor</th>\n",
       "      <th>Potasyum</th>\n",
       "      <th>Sıcaklık</th>\n",
       "      <th>Nem</th>\n",
       "      <th>pH_Değeri</th>\n",
       "      <th>Yağış</th>\n",
       "      <th>Ürün</th>\n",
       "    </tr>\n",
       "  </thead>\n",
       "  <tbody>\n",
       "    <tr>\n",
       "      <th>0</th>\n",
       "      <td>90</td>\n",
       "      <td>42</td>\n",
       "      <td>43</td>\n",
       "      <td>20.879744</td>\n",
       "      <td>82.002744</td>\n",
       "      <td>6.502985</td>\n",
       "      <td>202.935536</td>\n",
       "      <td>Rice</td>\n",
       "    </tr>\n",
       "    <tr>\n",
       "      <th>1</th>\n",
       "      <td>85</td>\n",
       "      <td>58</td>\n",
       "      <td>41</td>\n",
       "      <td>21.770462</td>\n",
       "      <td>80.319644</td>\n",
       "      <td>7.038096</td>\n",
       "      <td>226.655537</td>\n",
       "      <td>Rice</td>\n",
       "    </tr>\n",
       "    <tr>\n",
       "      <th>2</th>\n",
       "      <td>60</td>\n",
       "      <td>55</td>\n",
       "      <td>44</td>\n",
       "      <td>23.004459</td>\n",
       "      <td>82.320763</td>\n",
       "      <td>7.840207</td>\n",
       "      <td>263.964248</td>\n",
       "      <td>Rice</td>\n",
       "    </tr>\n",
       "    <tr>\n",
       "      <th>3</th>\n",
       "      <td>74</td>\n",
       "      <td>35</td>\n",
       "      <td>40</td>\n",
       "      <td>26.491096</td>\n",
       "      <td>80.158363</td>\n",
       "      <td>6.980401</td>\n",
       "      <td>242.864034</td>\n",
       "      <td>Rice</td>\n",
       "    </tr>\n",
       "    <tr>\n",
       "      <th>4</th>\n",
       "      <td>78</td>\n",
       "      <td>42</td>\n",
       "      <td>42</td>\n",
       "      <td>20.130175</td>\n",
       "      <td>81.604873</td>\n",
       "      <td>7.628473</td>\n",
       "      <td>262.717340</td>\n",
       "      <td>Rice</td>\n",
       "    </tr>\n",
       "  </tbody>\n",
       "</table>\n",
       "</div>"
      ],
      "text/plain": [
       "   Azot  Fosfor  Potasyum   Sıcaklık        Nem  pH_Değeri       Yağış  Ürün\n",
       "0    90      42        43  20.879744  82.002744   6.502985  202.935536  Rice\n",
       "1    85      58        41  21.770462  80.319644   7.038096  226.655537  Rice\n",
       "2    60      55        44  23.004459  82.320763   7.840207  263.964248  Rice\n",
       "3    74      35        40  26.491096  80.158363   6.980401  242.864034  Rice\n",
       "4    78      42        42  20.130175  81.604873   7.628473  262.717340  Rice"
      ]
     },
     "execution_count": 165,
     "metadata": {},
     "output_type": "execute_result"
    }
   ],
   "source": [
    "df.head()"
   ]
  },
  {
   "cell_type": "code",
   "execution_count": 166,
   "id": "2a89f17b",
   "metadata": {
    "collapsed": true
   },
   "outputs": [
    {
     "name": "stdout",
     "output_type": "stream",
     "text": [
      "Rice\n",
      "Maize\n",
      "ChickPea\n",
      "KidneyBeans\n",
      "PigeonPeas\n",
      "MothBeans\n",
      "MungBean\n",
      "Blackgram\n",
      "Lentil\n",
      "Pomegranate\n",
      "Banana\n",
      "Mango\n",
      "Grapes\n",
      "Watermelon\n",
      "Muskmelon\n",
      "Apple\n",
      "Orange\n",
      "Papaya\n",
      "Coconut\n",
      "Cotton\n",
      "Jute\n",
      "Coffee\n"
     ]
    }
   ],
   "source": [
    "a = df.Ürün.unique()\n",
    "\n",
    "for i in a: \n",
    "    print(i)"
   ]
  },
  {
   "cell_type": "code",
   "execution_count": 167,
   "id": "dbde44e4",
   "metadata": {},
   "outputs": [
    {
     "name": "stdout",
     "output_type": "stream",
     "text": [
      "\n",
      "Categorical Features: Index(['Ürün'], dtype='object')\n",
      "\n",
      "Numerical Features: Index(['Azot', 'Fosfor', 'Potasyum', 'Sıcaklık', 'Nem', 'pH_Değeri', 'Yağış'], dtype='object')\n"
     ]
    }
   ],
   "source": [
    "categorical_features = df.select_dtypes(include=['object']).columns\n",
    "numerical_features = df.select_dtypes(include=['int64', 'float64']).columns\n",
    "print(\"\\nCategorical Features:\", categorical_features)\n",
    "print(\"\\nNumerical Features:\", numerical_features)\n",
    "label_encoder = LabelEncoder()\n",
    "for feature in categorical_features:\n",
    "    df[feature] = label_encoder.fit_transform(df[feature])"
   ]
  },
  {
   "cell_type": "code",
   "execution_count": 168,
   "id": "4f782a78",
   "metadata": {},
   "outputs": [
    {
     "data": {
      "text/html": [
       "<div>\n",
       "<style scoped>\n",
       "    .dataframe tbody tr th:only-of-type {\n",
       "        vertical-align: middle;\n",
       "    }\n",
       "\n",
       "    .dataframe tbody tr th {\n",
       "        vertical-align: top;\n",
       "    }\n",
       "\n",
       "    .dataframe thead th {\n",
       "        text-align: right;\n",
       "    }\n",
       "</style>\n",
       "<table border=\"1\" class=\"dataframe\">\n",
       "  <thead>\n",
       "    <tr style=\"text-align: right;\">\n",
       "      <th></th>\n",
       "      <th>Azot</th>\n",
       "      <th>Fosfor</th>\n",
       "      <th>Potasyum</th>\n",
       "      <th>Sıcaklık</th>\n",
       "      <th>Nem</th>\n",
       "      <th>pH_Değeri</th>\n",
       "      <th>Yağış</th>\n",
       "      <th>Ürün</th>\n",
       "    </tr>\n",
       "  </thead>\n",
       "  <tbody>\n",
       "    <tr>\n",
       "      <th>0</th>\n",
       "      <td>90</td>\n",
       "      <td>42</td>\n",
       "      <td>43</td>\n",
       "      <td>20.879744</td>\n",
       "      <td>82.002744</td>\n",
       "      <td>6.502985</td>\n",
       "      <td>202.935536</td>\n",
       "      <td>20</td>\n",
       "    </tr>\n",
       "    <tr>\n",
       "      <th>1</th>\n",
       "      <td>85</td>\n",
       "      <td>58</td>\n",
       "      <td>41</td>\n",
       "      <td>21.770462</td>\n",
       "      <td>80.319644</td>\n",
       "      <td>7.038096</td>\n",
       "      <td>226.655537</td>\n",
       "      <td>20</td>\n",
       "    </tr>\n",
       "    <tr>\n",
       "      <th>2</th>\n",
       "      <td>60</td>\n",
       "      <td>55</td>\n",
       "      <td>44</td>\n",
       "      <td>23.004459</td>\n",
       "      <td>82.320763</td>\n",
       "      <td>7.840207</td>\n",
       "      <td>263.964248</td>\n",
       "      <td>20</td>\n",
       "    </tr>\n",
       "    <tr>\n",
       "      <th>3</th>\n",
       "      <td>74</td>\n",
       "      <td>35</td>\n",
       "      <td>40</td>\n",
       "      <td>26.491096</td>\n",
       "      <td>80.158363</td>\n",
       "      <td>6.980401</td>\n",
       "      <td>242.864034</td>\n",
       "      <td>20</td>\n",
       "    </tr>\n",
       "    <tr>\n",
       "      <th>4</th>\n",
       "      <td>78</td>\n",
       "      <td>42</td>\n",
       "      <td>42</td>\n",
       "      <td>20.130175</td>\n",
       "      <td>81.604873</td>\n",
       "      <td>7.628473</td>\n",
       "      <td>262.717340</td>\n",
       "      <td>20</td>\n",
       "    </tr>\n",
       "  </tbody>\n",
       "</table>\n",
       "</div>"
      ],
      "text/plain": [
       "   Azot  Fosfor  Potasyum   Sıcaklık        Nem  pH_Değeri       Yağış  Ürün\n",
       "0    90      42        43  20.879744  82.002744   6.502985  202.935536    20\n",
       "1    85      58        41  21.770462  80.319644   7.038096  226.655537    20\n",
       "2    60      55        44  23.004459  82.320763   7.840207  263.964248    20\n",
       "3    74      35        40  26.491096  80.158363   6.980401  242.864034    20\n",
       "4    78      42        42  20.130175  81.604873   7.628473  262.717340    20"
      ]
     },
     "execution_count": 168,
     "metadata": {},
     "output_type": "execute_result"
    }
   ],
   "source": [
    "df.head()"
   ]
  },
  {
   "cell_type": "code",
   "execution_count": 169,
   "id": "eb45a121",
   "metadata": {
    "collapsed": true
   },
   "outputs": [
    {
     "name": "stdout",
     "output_type": "stream",
     "text": [
      "20\n",
      "11\n",
      "3\n",
      "9\n",
      "18\n",
      "13\n",
      "14\n",
      "2\n",
      "10\n",
      "19\n",
      "1\n",
      "12\n",
      "7\n",
      "21\n",
      "15\n",
      "0\n",
      "16\n",
      "17\n",
      "4\n",
      "6\n",
      "8\n",
      "5\n"
     ]
    }
   ],
   "source": [
    "b = df.Ürün.unique()\n",
    "\n",
    "for i in b: \n",
    "    print(i)"
   ]
  },
  {
   "cell_type": "code",
   "execution_count": 178,
   "id": "6d4daa49",
   "metadata": {
    "collapsed": true
   },
   "outputs": [
    {
     "name": "stdout",
     "output_type": "stream",
     "text": [
      "['Rice' 'Maize' 'ChickPea' 'KidneyBeans' 'PigeonPeas' 'MothBeans'\n",
      " 'MungBean' 'Blackgram' 'Lentil' 'Pomegranate' 'Banana' 'Mango' 'Grapes'\n",
      " 'Watermelon' 'Muskmelon' 'Apple' 'Orange' 'Papaya' 'Coconut' 'Cotton'\n",
      " 'Jute' 'Coffee']\n",
      "[20 11  3  9 18 13 14  2 10 19  1 12  7 21 15  0 16 17  4  6  8  5]\n"
     ]
    }
   ],
   "source": [
    "for i in a,b:\n",
    "    print(i)"
   ]
  },
  {
   "cell_type": "code",
   "execution_count": 179,
   "id": "d5bebb23",
   "metadata": {},
   "outputs": [],
   "source": [
    "y=df['Ürün']\n",
    "x=df.drop(columns=['Ürün'], axis=1)"
   ]
  },
  {
   "cell_type": "code",
   "execution_count": 180,
   "id": "7a0e9959",
   "metadata": {},
   "outputs": [],
   "source": [
    "x_train,x_test,y_train,y_test = train_test_split(x,y, train_size=0.8, random_state=42)"
   ]
  },
  {
   "cell_type": "code",
   "execution_count": 182,
   "id": "274e875f",
   "metadata": {},
   "outputs": [],
   "source": [
    "rf = RandomForestClassifier()\n",
    "model = rf.fit(x_train,y_train)"
   ]
  },
  {
   "cell_type": "code",
   "execution_count": 186,
   "id": "31e48ffa",
   "metadata": {},
   "outputs": [],
   "source": [
    "y_pred = model.predict(x_test)"
   ]
  },
  {
   "cell_type": "code",
   "execution_count": 187,
   "id": "1a7b7850",
   "metadata": {},
   "outputs": [
    {
     "data": {
      "text/plain": [
       "0.9931818181818182"
      ]
     },
     "execution_count": 187,
     "metadata": {},
     "output_type": "execute_result"
    }
   ],
   "source": [
    "accuracy_score(y_test,y_pred)"
   ]
  }
 ],
 "metadata": {
  "kernelspec": {
   "display_name": "Python 3 (ipykernel)",
   "language": "python",
   "name": "python3"
  },
  "language_info": {
   "codemirror_mode": {
    "name": "ipython",
    "version": 3
   },
   "file_extension": ".py",
   "mimetype": "text/x-python",
   "name": "python",
   "nbconvert_exporter": "python",
   "pygments_lexer": "ipython3",
   "version": "3.9.13"
  }
 },
 "nbformat": 4,
 "nbformat_minor": 5
}
